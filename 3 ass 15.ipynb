{
 "cells": [
  {
   "cell_type": "code",
   "execution_count": 15,
   "metadata": {},
   "outputs": [
    {
     "name": "stdout",
     "output_type": "stream",
     "text": [
      "100\n",
      "0,35,70\n"
     ]
    }
   ],
   "source": [
    "#1\n",
    "def divsb1(n):\n",
    "    for i in range(n+1):\n",
    "        if(i%5==0 and i%7==0):\n",
    "            yield i\n",
    "n=int(input())\n",
    "p=[]\n",
    "for i in divsb1(n):\n",
    "    p.append(i)\n",
    "for i in range(len(p)-1):                           #This loop since there is a comma at the end of the output\n",
    "    print(p[i],end=',')\n",
    "print(p[-1])\n",
    "    \n",
    "    \n"
   ]
  },
  {
   "cell_type": "code",
   "execution_count": 16,
   "metadata": {},
   "outputs": [
    {
     "name": "stdout",
     "output_type": "stream",
     "text": [
      "10\n",
      "0,2,4,6,8,10\n"
     ]
    }
   ],
   "source": [
    "#2\n",
    "def even(n):\n",
    "    for i in range(n+1):\n",
    "        if(i%2==0):  yield i\n",
    "      \n",
    "n=int(input())\n",
    "p=[]\n",
    "for i in even(n):\n",
    "    p.append(i)\n",
    "for i in range(len(p)-1):                           #This loop since there is a comma at the end of the output\n",
    "    print(p[i],end=',')\n",
    "print(p[-1])"
   ]
  },
  {
   "cell_type": "code",
   "execution_count": null,
   "metadata": {},
   "outputs": [
    {
     "name": "stdout",
     "output_type": "stream",
     "text": [
      "enter the upper val100\n",
      "enter the lower val200\n"
     ]
    }
   ],
   "source": [
    "#3\n",
    "def fibin(n):\n",
    "    a=0\n",
    "    b=1\n",
    "    a,\n",
    "n=int(input('Enter upper limit'))\n",
    "fibin(n)"
   ]
  },
  {
   "cell_type": "code",
   "execution_count": 34,
   "metadata": {},
   "outputs": [
    {
     "name": "stdout",
     "output_type": "stream",
     "text": [
      "Enter limit 10\n",
      "[0, 1, 1, 2, 3, 5, 8, 13, 21, 34, 55, 89]\n"
     ]
    }
   ],
   "source": [
    "#4\n",
    "x=int(input('Enter limit '))\n",
    "a=[]\n",
    "if(x==0):\n",
    "    a.append(0)\n",
    "elif(x==1):\n",
    "    a.append(1)\n",
    "else: \n",
    "    a=[0,1]\n",
    "    [a.append(a[-2]+a[-1]) for i in range(x)]\n",
    "print(a) "
   ]
  },
  {
   "cell_type": "code",
   "execution_count": 9,
   "metadata": {},
   "outputs": [
    {
     "name": "stdout",
     "output_type": "stream",
     "text": [
      "enter email :john@google.com\n",
      "john\n"
     ]
    }
   ],
   "source": [
    "#5\n",
    "x=input('enter email :')  \n",
    "z=x.split('@')\n",
    "print(z[0])\n",
    "\n",
    "\n"
   ]
  },
  {
   "cell_type": "code",
   "execution_count": 15,
   "metadata": {},
   "outputs": [
    {
     "name": "stdout",
     "output_type": "stream",
     "text": [
      "Area of Square is 36\n",
      "Area of shape 0\n"
     ]
    }
   ],
   "source": [
    "#6\n",
    "class shape:\n",
    "    def area(self):\n",
    "        print('Area of shape',0)\n",
    "class Square(shape):\n",
    "    def __init__(self,length):\n",
    "        self.length=length\n",
    "    def area(self):\n",
    "        print('Area of Square is {}'.format(self.length**2))\n",
    "Q=Square(6)\n",
    "A=shape()\n",
    "Q.area()\n",
    "A.area()\n",
    "    "
   ]
  }
 ],
 "metadata": {
  "kernelspec": {
   "display_name": "Python 3",
   "language": "python",
   "name": "python3"
  },
  "language_info": {
   "codemirror_mode": {
    "name": "ipython",
    "version": 3
   },
   "file_extension": ".py",
   "mimetype": "text/x-python",
   "name": "python",
   "nbconvert_exporter": "python",
   "pygments_lexer": "ipython3",
   "version": "3.8.3"
  }
 },
 "nbformat": 4,
 "nbformat_minor": 4
}
